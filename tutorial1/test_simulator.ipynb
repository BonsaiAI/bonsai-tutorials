{
 "cells": [
  {
   "cell_type": "markdown",
   "metadata": {},
   "source": [
    "# Testing of our point control sim\n",
    "\n",
    "We'll make a basic simulator control loop (what the BRAIN trainer will do), and plot the output. Then we'll be able to use the same tools to visualize the learned policies."
   ]
  },
  {
   "cell_type": "code",
   "execution_count": 2,
   "metadata": {},
   "outputs": [],
   "source": [
    "%matplotlib inline"
   ]
  },
  {
   "cell_type": "code",
   "execution_count": 3,
   "metadata": {},
   "outputs": [],
   "source": [
    "%load_ext autoreload\n",
    "%autoreload 2"
   ]
  },
  {
   "cell_type": "code",
   "execution_count": 4,
   "metadata": {},
   "outputs": [],
   "source": [
    "import math\n",
    "import random\n",
    "\n",
    "import matplotlib as mpl\n",
    "import matplotlib.pyplot as plt\n",
    "import numpy as np"
   ]
  },
  {
   "cell_type": "code",
   "execution_count": 5,
   "metadata": {},
   "outputs": [],
   "source": [
    "from bonsai_ai import Simulator, Config, Brain"
   ]
  },
  {
   "cell_type": "code",
   "execution_count": 6,
   "metadata": {},
   "outputs": [],
   "source": [
    "import move_a_point_sim as sim"
   ]
  },
  {
   "cell_type": "code",
   "execution_count": 7,
   "metadata": {},
   "outputs": [],
   "source": [
    "def run_sim_episode(sim, policy):\n",
    "    \"\"\"\n",
    "    Given a sim and a policy, step through some iterations \n",
    "    of the simulator, returning the history of states.\n",
    "    \n",
    "    Args:\n",
    "        sim: a PointSimulator\n",
    "        policy: a function (SimState -> action dictionary)\n",
    "    \"\"\"\n",
    "    k = 0 # Count steps, break out of infinite loops\n",
    "    state_history = []\n",
    "    reward_history = []\n",
    "    state = sim.episode_start()\n",
    "    state_history.append(state)\n",
    "\n",
    "    is_terminal = False\n",
    "    \n",
    "    while not is_terminal:\n",
    "        action = policy(state)\n",
    "        (state, reward, is_terminal) = sim.simulate(action)\n",
    "        state_history.append(state)\n",
    "        reward_history.append(reward)\n",
    "        k += 1\n",
    "        if k > 1000:\n",
    "            raise Exception(\"Simulation ran longer than 1000 steps. Stopping.\")\n",
    "\n",
    "    return state_history, reward_history"
   ]
  },
  {
   "cell_type": "code",
   "execution_count": 8,
   "metadata": {},
   "outputs": [],
   "source": [
    "# Some silly policies\n",
    "def random_policy(state):\n",
    "    \"\"\"\n",
    "    Ignore the state, move randomly.\n",
    "    \"\"\"\n",
    "    return {'direction_radians': random.random() * 2 * math.pi}\n",
    "\n",
    "def go_up_policy(state):\n",
    "    return {'direction_radians': math.pi / 2.0}"
   ]
  },
  {
   "cell_type": "code",
   "execution_count": 9,
   "metadata": {},
   "outputs": [],
   "source": [
    "config = Config()\n",
    "brain = Brain(config)\n",
    "point_sim = sim.PointSimulator(brain, \"move_a_point_sim\")\n",
    "\n",
    "states, rewards = run_sim_episode(point_sim, random_policy)"
   ]
  },
  {
   "cell_type": "code",
   "execution_count": 10,
   "metadata": {},
   "outputs": [
    {
     "data": {
      "text/plain": [
       "{'current_x': 0.8223690146318672,\n",
       " 'current_y': 0.619804447466461,\n",
       " 'target_x': 0.9226958063196323,\n",
       " 'target_y': 0.34093959121945816}"
      ]
     },
     "execution_count": 10,
     "metadata": {},
     "output_type": "execute_result"
    }
   ],
   "source": [
    "states[0]"
   ]
  },
  {
   "cell_type": "code",
   "execution_count": 11,
   "metadata": {},
   "outputs": [],
   "source": [
    "def plot_state_history(states):\n",
    "    target = states[0]['target_x'], states[0]['target_y']\n",
    "    \n",
    "    xs = [s['current_x'] for s in states]\n",
    "    ys = [s['current_y'] for s in states]\n",
    "\n",
    "    fig, axes = plt.subplots(1,1)\n",
    "    data = np.random.random([10, 2]) \n",
    "    \n",
    "    # Pull out colors\n",
    "    colors = np.linspace(0.1, 1, len(states))\n",
    "    mymap = plt.get_cmap(\"Blues\")\n",
    "    # get the colors from the color map\n",
    "    my_colors = mymap(colors)\n",
    "    axes.scatter(xs, ys, s=40,\n",
    "                     c=colors, edgecolors='None',\n",
    "                     cmap=mymap)\n",
    "    \n",
    "    # Plot the target point in orange\n",
    "    axes.scatter(target[0], target[1], s=40, c='orange', edgecolors='None')\n",
    "    \n",
    "    def bounds(lst):\n",
    "        eps = 0.05\n",
    "        return min(lst+[0])-eps, max(lst+[1])+eps\n",
    "        \n",
    "    axes.set_xlim(bounds(xs))\n",
    "    axes.set_ylim(bounds(ys))\n",
    "    "
   ]
  },
  {
   "cell_type": "code",
   "execution_count": 12,
   "metadata": {},
   "outputs": [
    {
     "data": {
      "image/png": "[encoded data removed]",
      "text/plain": [
       "<matplotlib.figure.Figure at 0x1074337b8>"
      ]
     },
     "metadata": {},
     "output_type": "display_data"
    },
    {
     "data": {
      "image/png": "[encoded data removed]",
      "text/plain": [
       "<matplotlib.figure.Figure at 0x10828bd30>"
      ]
     },
     "metadata": {},
     "output_type": "display_data"
    },
    {
     "data": {
      "image/png": "[encoded data removed]",
      "text/plain": [
       "<matplotlib.figure.Figure at 0x108324f98>"
      ]
     },
     "metadata": {},
     "output_type": "display_data"
    }
   ],
   "source": [
    "for i in range(3):\n",
    "    states, rewards = run_sim_episode(point_sim, random_policy)\n",
    "    plot_state_history(states)"
   ]
  },
  {
   "cell_type": "code",
   "execution_count": 13,
   "metadata": {},
   "outputs": [
    {
     "data": {
      "image/png": "[encoded data removed]",
      "text/plain": [
       "<matplotlib.figure.Figure at 0x108cfcb70>"
      ]
     },
     "metadata": {},
     "output_type": "display_data"
    }
   ],
   "source": [
    "# Let's try the \"go up\" policy:\n",
    "states, rewards = run_sim_episode(point_sim, go_up_policy)\n",
    "plot_state_history(states)"
   ]
  },
  {
   "cell_type": "code",
   "execution_count": 14,
   "metadata": {},
   "outputs": [
    {
     "data": {
      "text/plain": [
       "[0.1444835978136659,\n",
       " 0.058200299945756935,\n",
       " 0.0073970734998764255,\n",
       " -0.1513559629527994,\n",
       " -0.4633500884614761,\n",
       " -0.7436019954487594,\n",
       " -0.9811773545269142,\n",
       " -1.1745617985788481,\n",
       " -1.3282146808289963,\n",
       " -1.4489442135157504,\n",
       " -1.5436120217596683,\n",
       " -1.6181254365605025,\n",
       " -1.6771983694211468,\n",
       " -1.724452556767595,\n",
       " -1.7626224118814404,\n",
       " -1.793760376987641,\n",
       " -1.819408416144066,\n",
       " -1.8407306034908588,\n",
       " -1.8586119674490842,\n",
       " -1.8737309596793095,\n",
       " -1]"
      ]
     },
     "execution_count": 14,
     "metadata": {},
     "output_type": "execute_result"
    }
   ],
   "source": [
    "rewards"
   ]
  },
  {
   "cell_type": "markdown",
   "metadata": {},
   "source": [
    "# Next step: RL!\n",
    "\n",
    "Now it's time to go write some inkling code to connect the simulator to a BRAIN. Then we'll train it."
   ]
  },
  {
   "cell_type": "code",
   "execution_count": 15,
   "metadata": {},
   "outputs": [
    {
     "data": {
      "text/plain": [
       "True"
      ]
     },
     "execution_count": 15,
     "metadata": {},
     "output_type": "execute_result"
    }
   ],
   "source": [
    "point_sim.run()"
   ]
  },
  {
   "cell_type": "code",
   "execution_count": null,
   "metadata": {},
   "outputs": [],
   "source": []
  }
 ],
 "metadata": {
  "anaconda-cloud": {},
  "kernelspec": {
   "display_name": "Python 3",
   "language": "python",
   "name": "python3"
  },
  "language_info": {
   "codemirror_mode": {
    "name": "ipython",
    "version": 3
   },
   "file_extension": ".py",
   "mimetype": "text/x-python",
   "name": "python",
   "nbconvert_exporter": "python",
   "pygments_lexer": "ipython3",
   "version": "3.6.4"
  }
 },
 "nbformat": 4,
 "nbformat_minor": 2
}
