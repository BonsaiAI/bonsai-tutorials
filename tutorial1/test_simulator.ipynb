{
 "cells": [
  {
   "cell_type": "markdown",
   "metadata": {},
   "source": [
    "# Testing of our point control sim\n",
    "\n",
    "We'll make a basic simulator control loop (what the BRAIN trainer will do), and plot the output. Then we'll be able to use the same tools to visualize the learned policies."
   ]
  },
  {
   "cell_type": "code",
   "execution_count": 4,
   "metadata": {},
   "outputs": [],
   "source": [
    "%matplotlib inline"
   ]
  },
  {
   "cell_type": "code",
   "execution_count": 5,
   "metadata": {},
   "outputs": [
    {
     "name": "stdout",
     "output_type": "stream",
     "text": [
      "The autoreload extension is already loaded. To reload it, use:\n",
      "  %reload_ext autoreload\n"
     ]
    }
   ],
   "source": [
    "%load_ext autoreload\n",
    "%autoreload 2"
   ]
  },
  {
   "cell_type": "code",
   "execution_count": 6,
   "metadata": {},
   "outputs": [],
   "source": [
    "import math\n",
    "import random\n",
    "\n",
    "import matplotlib as mpl\n",
    "import matplotlib.pyplot as plt\n",
    "import numpy as np"
   ]
  },
  {
   "cell_type": "code",
   "execution_count": 7,
   "metadata": {},
   "outputs": [],
   "source": [
    "from bonsai_ai import Simulator, Config, Brain"
   ]
  },
  {
   "cell_type": "code",
   "execution_count": 8,
   "metadata": {},
   "outputs": [],
   "source": [
    "import move_a_point_sim as sim"
   ]
  },
  {
   "cell_type": "code",
   "execution_count": 9,
   "metadata": {},
   "outputs": [],
   "source": [
    "def run_sim_episode(sim, policy):\n",
    "    \"\"\"\n",
    "    Given a sim and a policy, step through some iterations \n",
    "    of the simulator, returning the history of states.\n",
    "    \n",
    "    Args:\n",
    "        sim: a PointSimulator\n",
    "        policy: a function (SimState -> action dictionary)\n",
    "    \"\"\"\n",
    "    k = 0 # Count steps, break out of infinite loops\n",
    "    state_history = []\n",
    "    reward_history = []\n",
    "    state = sim.episode_start()\n",
    "    state_history.append(state)\n",
    "\n",
    "    is_terminal = False\n",
    "    \n",
    "    while not is_terminal:\n",
    "        action = policy(state)\n",
    "        # convert to a [-1,1] action\n",
    "        #action['direction_radians'] = action['direction_radians'] / math.pi - 1.0\n",
    "        (state, reward, is_terminal) = sim.simulate(action)\n",
    "        state_history.append(state)\n",
    "        reward_history.append(reward)\n",
    "        k += 1\n",
    "        if k > 1000:\n",
    "            raise Exception(\"Simulation ran longer than 1000 steps. Stopping.\")\n",
    "\n",
    "    return state_history, reward_history"
   ]
  },
  {
   "cell_type": "code",
   "execution_count": 10,
   "metadata": {},
   "outputs": [],
   "source": [
    "# Some silly policies\n",
    "def random_policy(state):\n",
    "    \"\"\"\n",
    "    Ignore the state, move randomly.\n",
    "    \"\"\"\n",
    "    return {'direction_radians': random.random() * 2 * math.pi}\n",
    "\n",
    "def go_up_policy(state):\n",
    "    return {'direction_radians': math.pi / 2.0}"
   ]
  },
  {
   "cell_type": "code",
   "execution_count": 11,
   "metadata": {},
   "outputs": [],
   "source": [
    "config = Config()\n",
    "brain = Brain(config)\n",
    "point_sim = sim.PointSimulator(brain, \"move_a_point_sim\")\n",
    "\n",
    "states, rewards = run_sim_episode(point_sim, random_policy)"
   ]
  },
  {
   "cell_type": "code",
   "execution_count": 12,
   "metadata": {},
   "outputs": [
    {
     "data": {
      "text/plain": [
       "{'dx': 0.24976389805026533, 'dy': 0.5115264976907996}"
      ]
     },
     "execution_count": 12,
     "metadata": {},
     "output_type": "execute_result"
    }
   ],
   "source": [
    "states[0]"
   ]
  },
  {
   "cell_type": "code",
   "execution_count": 13,
   "metadata": {},
   "outputs": [],
   "source": [
    "def plot_state_history(states):\n",
    "    target = states[0]['dx'], states[0]['dy']\n",
    "    \n",
    "    xs = [target[0] - s['dx'] for s in states]\n",
    "    ys = [target[1] - s['dy'] for s in states]\n",
    "\n",
    "    fig, axes = plt.subplots(1,1)\n",
    "    #data = np.random.random([10, 2]) \n",
    "    \n",
    "    # Pull out colors\n",
    "    colors = np.linspace(0.1, 1, len(states))\n",
    "    mymap = plt.get_cmap(\"Blues\")\n",
    "    # get the colors from the color map\n",
    "    my_colors = mymap(colors)\n",
    "    axes.scatter(xs, ys, s=40,\n",
    "                     c=colors, edgecolors='None',\n",
    "                     cmap=mymap)\n",
    "    \n",
    "    # Plot the target point in orange\n",
    "    axes.scatter(target[0], target[1], s=40, c='orange', edgecolors='None')\n",
    "    \n",
    "    def bounds(lst):\n",
    "        eps = 0.05\n",
    "        return min(lst+[0])-eps, max(lst+[1])+eps\n",
    "        \n",
    "    axes.set_xlim(bounds(xs + [target[0]]))\n",
    "    axes.set_ylim(bounds(ys + [target[1]]))\n",
    "    "
   ]
  },
  {
   "cell_type": "code",
   "execution_count": 14,
   "metadata": {},
   "outputs": [
    {
     "data": {
      "image/png": "[encoded data removed]",
      "text/plain": [
       "<matplotlib.figure.Figure at 0x1074038d0>"
      ]
     },
     "metadata": {},
     "output_type": "display_data"
    },
    {
     "data": {
      "image/png": "[encoded data removed]",
      "text/plain": [
       "<matplotlib.figure.Figure at 0x107453fd0>"
      ]
     },
     "metadata": {},
     "output_type": "display_data"
    },
    {
     "data": {
      "image/png": "[encoded data removed]",
      "text/plain": [
       "<matplotlib.figure.Figure at 0x1074ac2e8>"
      ]
     },
     "metadata": {},
     "output_type": "display_data"
    }
   ],
   "source": [
    "for i in range(3):\n",
    "    states, rewards = run_sim_episode(point_sim, random_policy)\n",
    "    plot_state_history(states)"
   ]
  },
  {
   "cell_type": "code",
   "execution_count": 15,
   "metadata": {},
   "outputs": [
    {
     "data": {
      "image/png": "[encoded data removed]",
      "text/plain": [
       "<matplotlib.figure.Figure at 0x10757f780>"
      ]
     },
     "metadata": {},
     "output_type": "display_data"
    }
   ],
   "source": [
    "# Let's try the \"go up\" policy:\n",
    "states, rewards = run_sim_episode(point_sim, go_up_policy)\n",
    "plot_state_history(states)"
   ]
  },
  {
   "cell_type": "code",
   "execution_count": 16,
   "metadata": {},
   "outputs": [
    {
     "data": {
      "text/plain": [
       "[{'dx': -0.5424105768543129, 'dy': -0.9103367427394767},\n",
       " {'dx': -0.5424105768543129, 'dy': -1.0103367427394767},\n",
       " {'dx': -0.5424105768543129, 'dy': -1.1103367427394768},\n",
       " {'dx': -0.5424105768543129, 'dy': -1.210336742739477},\n",
       " {'dx': -0.5424105768543129, 'dy': -1.310336742739477},\n",
       " {'dx': -0.5424105768543129, 'dy': -1.410336742739477},\n",
       " {'dx': -0.5424105768543129, 'dy': -1.5103367427394772},\n",
       " {'dx': -0.5424105768543129, 'dy': -1.6103367427394772},\n",
       " {'dx': -0.5424105768543129, 'dy': -1.7103367427394773},\n",
       " {'dx': -0.5424105768543129, 'dy': -1.8103367427394774},\n",
       " {'dx': -0.5424105768543129, 'dy': -1.9103367427394775},\n",
       " {'dx': -0.5424105768543129, 'dy': -2.0103367427394776},\n",
       " {'dx': -0.5424105768543129, 'dy': -2.1103367427394777},\n",
       " {'dx': -0.5424105768543129, 'dy': -2.2103367427394778},\n",
       " {'dx': -0.5424105768543129, 'dy': -2.310336742739478},\n",
       " {'dx': -0.5424105768543129, 'dy': -2.410336742739478},\n",
       " {'dx': -0.5424105768543129, 'dy': -2.510336742739478},\n",
       " {'dx': -0.5424105768543129, 'dy': -2.610336742739478},\n",
       " {'dx': -0.5424105768543129, 'dy': -2.710336742739478},\n",
       " {'dx': -0.5424105768543129, 'dy': -2.8103367427394783},\n",
       " {'dx': -0.5424105768543129, 'dy': -2.9103367427394784}]"
      ]
     },
     "execution_count": 16,
     "metadata": {},
     "output_type": "execute_result"
    }
   ],
   "source": [
    "states"
   ]
  },
  {
   "cell_type": "code",
   "execution_count": 17,
   "metadata": {},
   "outputs": [
    {
     "data": {
      "text/plain": [
       "[-2.7409940317708017,\n",
       " -2.7802299704686453,\n",
       " -2.81156752046153,\n",
       " -2.836901105668831,\n",
       " -2.8576155318337584,\n",
       " -2.8747334623821565,\n",
       " -2.8890186252990038,\n",
       " -2.901047952533359,\n",
       " -2.9112622314478545,\n",
       " -2.920001941716598,\n",
       " -2.9275328479596254,\n",
       " -2.934064462495142,\n",
       " -2.9397635039251426,\n",
       " -2.944763810289505,\n",
       " -2.9491737153833366,\n",
       " -2.953081591703567,\n",
       " -2.956560055262573,\n",
       " -2.9596691842623315,\n",
       " -2.9624590042098156,\n",
       " 0]"
      ]
     },
     "execution_count": 17,
     "metadata": {},
     "output_type": "execute_result"
    }
   ],
   "source": [
    "rewards"
   ]
  },
  {
   "cell_type": "code",
   "execution_count": 18,
   "metadata": {},
   "outputs": [],
   "source": [
    "def near_optimal(state):\n",
    "    dx, dy = state['dx'], state['dy']\n",
    "    return {'direction_radians': math.atan2(dy, dx) % (2 * math.pi)}"
   ]
  },
  {
   "cell_type": "code",
   "execution_count": 19,
   "metadata": {},
   "outputs": [
    {
     "data": {
      "image/png": "[encoded data removed]",
      "text/plain": [
       "<matplotlib.figure.Figure at 0x107651710>"
      ]
     },
     "metadata": {},
     "output_type": "display_data"
    }
   ],
   "source": [
    "# Let's try the \"go up\" policy:\n",
    "states, rewards = run_sim_episode(point_sim, near_optimal)\n",
    "plot_state_history(states)"
   ]
  },
  {
   "cell_type": "code",
   "execution_count": 20,
   "metadata": {},
   "outputs": [
    {
     "data": {
      "text/plain": [
       "[{'dx': 0.7522438536560546, 'dy': -0.4881978285599836},\n",
       " {'dx': 0.6683607538522178, 'dy': -0.4337586370955656},\n",
       " {'dx': 0.584477654048381, 'dy': -0.3793194456311476},\n",
       " {'dx': 0.5005945542445442, 'dy': -0.3248802541667297},\n",
       " {'dx': 0.41671145444070734, 'dy': -0.27044106270231183},\n",
       " {'dx': 0.3328283546368705, 'dy': -0.21600187123789394},\n",
       " {'dx': 0.24894525483303365, 'dy': -0.16156267977347605},\n",
       " {'dx': 0.16506215502919686, 'dy': -0.10712348830905816},\n",
       " {'dx': 0.08117905522535995, 'dy': -0.052684296844640266}]"
      ]
     },
     "execution_count": 20,
     "metadata": {},
     "output_type": "execute_result"
    }
   ],
   "source": [
    "states"
   ]
  },
  {
   "cell_type": "code",
   "execution_count": 21,
   "metadata": {},
   "outputs": [
    {
     "data": {
      "text/plain": [
       "[1.0000000000000018,\n",
       " 0.9999999999999996,\n",
       " 0.9999999999999996,\n",
       " 1.0000000000000004,\n",
       " 1.0000000000000004,\n",
       " 1.0000000000000004,\n",
       " 0.9999999999999989,\n",
       " 12]"
      ]
     },
     "execution_count": 21,
     "metadata": {},
     "output_type": "execute_result"
    }
   ],
   "source": [
    "rewards"
   ]
  },
  {
   "cell_type": "markdown",
   "metadata": {},
   "source": [
    "# Next step: RL!\n",
    "\n",
    "Now it's time to go write some inkling code to connect the simulator to a BRAIN. Then we'll train it."
   ]
  }
 ],
 "metadata": {
  "anaconda-cloud": {},
  "kernelspec": {
   "display_name": "Python 3",
   "language": "python",
   "name": "python3"
  },
  "language_info": {
   "codemirror_mode": {
    "name": "ipython",
    "version": 3
   },
   "file_extension": ".py",
   "mimetype": "text/x-python",
   "name": "python",
   "nbconvert_exporter": "python",
   "pygments_lexer": "ipython3",
   "version": "3.6.0"
  }
 },
 "nbformat": 4,
 "nbformat_minor": 2
}
