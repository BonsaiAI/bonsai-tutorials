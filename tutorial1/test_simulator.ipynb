{
 "cells": [
  {
   "cell_type": "markdown",
   "metadata": {},
   "source": [
    "# Testing of our point control sim\n",
    "\n",
    "We'll make a basic simulator control loop (what the BRAIN trainer will do), and plot the output. Then we'll be able to use the same tools to visualize the learned policies."
   ]
  },
  {
   "cell_type": "code",
   "execution_count": 1,
   "metadata": {},
   "outputs": [],
   "source": [
    "%matplotlib inline"
   ]
  },
  {
   "cell_type": "code",
   "execution_count": 2,
   "metadata": {},
   "outputs": [],
   "source": [
    "%load_ext autoreload\n",
    "%autoreload 2"
   ]
  },
  {
   "cell_type": "code",
   "execution_count": 3,
   "metadata": {},
   "outputs": [],
   "source": [
    "import math\n",
    "import random\n",
    "\n",
    "import matplotlib as mpl\n",
    "import matplotlib.pyplot as plt\n",
    "import numpy as np"
   ]
  },
  {
   "cell_type": "code",
   "execution_count": 4,
   "metadata": {},
   "outputs": [],
   "source": [
    "from bonsai_ai import Simulator, Config, Brain"
   ]
  },
  {
   "cell_type": "code",
   "execution_count": 5,
   "metadata": {},
   "outputs": [],
   "source": [
    "import move_a_point_sim as sim"
   ]
  },
  {
   "cell_type": "code",
   "execution_count": 6,
   "metadata": {},
   "outputs": [],
   "source": [
    "def run_sim_episode(sim, policy):\n",
    "    \"\"\"\n",
    "    Given a sim and a policy, step through some iterations \n",
    "    of the simulator, returning the history of states.\n",
    "    \n",
    "    Args:\n",
    "        sim: a PointSimulator\n",
    "        policy: a function (SimState -> action dictionary)\n",
    "    \"\"\"\n",
    "    k = 0 # Count steps, break out of infinite loops\n",
    "    state_history = []\n",
    "    reward_history = []\n",
    "    state = sim.episode_start()\n",
    "    state_history.append(state)\n",
    "\n",
    "    is_terminal = False\n",
    "    \n",
    "    while not is_terminal:\n",
    "        action = policy(state)\n",
    "        # convert to a [-1,1] action\n",
    "        #action['direction_radians'] = action['direction_radians'] / math.pi - 1.0\n",
    "        (state, reward, is_terminal) = sim.simulate(action)\n",
    "        state_history.append(state)\n",
    "        reward_history.append(reward)\n",
    "        k += 1\n",
    "        if k > 1000:\n",
    "            raise Exception(\"Simulation ran longer than 1000 steps. Stopping.\")\n",
    "\n",
    "    return state_history, reward_history"
   ]
  },
  {
   "cell_type": "code",
   "execution_count": 7,
   "metadata": {},
   "outputs": [],
   "source": [
    "# Some silly policies\n",
    "def random_policy(state):\n",
    "    \"\"\"\n",
    "    Ignore the state, move randomly.\n",
    "    \"\"\"\n",
    "    return {'direction_radians': random.random() * 2 * math.pi}\n",
    "\n",
    "def go_up_policy(state):\n",
    "    return {'direction_radians': math.pi / 2.0}"
   ]
  },
  {
   "cell_type": "code",
   "execution_count": 8,
   "metadata": {},
   "outputs": [],
   "source": [
    "config = Config()\n",
    "brain = Brain(config, \"directControlHistory\")\n",
    "point_sim = sim.PointBonsaiBridge(brain, \"move_a_point_sim\")\n",
    "\n",
    "states, rewards = run_sim_episode(point_sim, random_policy)"
   ]
  },
  {
   "cell_type": "code",
   "execution_count": 9,
   "metadata": {},
   "outputs": [
    {
     "data": {
      "text/plain": [
       "{'dx': -0.5879577513573184, 'dy': -0.1473544898565987}"
      ]
     },
     "execution_count": 9,
     "metadata": {},
     "output_type": "execute_result"
    }
   ],
   "source": [
    "states[0]"
   ]
  },
  {
   "cell_type": "code",
   "execution_count": 10,
   "metadata": {},
   "outputs": [],
   "source": [
    "def plot_state_history(states):\n",
    "    target = states[0]['dx'], states[0]['dy']\n",
    "    \n",
    "    xs = [target[0] - s['dx'] for s in states]\n",
    "    ys = [target[1] - s['dy'] for s in states]\n",
    "\n",
    "    fig, axes = plt.subplots(1,1)\n",
    "    #data = np.random.random([10, 2]) \n",
    "    \n",
    "    # Pull out colors\n",
    "    colors = np.linspace(0.1, 1, len(states))\n",
    "    mymap = plt.get_cmap(\"Blues\")\n",
    "    # get the colors from the color map\n",
    "    my_colors = mymap(colors)\n",
    "    axes.scatter(xs, ys, s=40,\n",
    "                     c=colors, edgecolors='None',\n",
    "                     cmap=mymap)\n",
    "    \n",
    "    # Plot the target point in orange\n",
    "    axes.scatter(target[0], target[1], s=40, c='orange', edgecolors='None')\n",
    "    \n",
    "    def bounds(lst):\n",
    "        eps = 0.05\n",
    "        return min(lst+[0])-eps, max(lst+[1])+eps\n",
    "        \n",
    "    axes.set_xlim(bounds(xs + [target[0]]))\n",
    "    axes.set_ylim(bounds(ys + [target[1]]))\n",
    "    "
   ]
  },
  {
   "cell_type": "code",
   "execution_count": 11,
   "metadata": {},
   "outputs": [
    {
     "data": {
      "image/png": "[encoded data removed]",
      "text/plain": [
       "<matplotlib.figure.Figure at 0x10661b080>"
      ]
     },
     "metadata": {},
     "output_type": "display_data"
    },
    {
     "data": {
      "image/png": "[encoded data removed]",
      "text/plain": [
       "<matplotlib.figure.Figure at 0x1066bf2b0>"
      ]
     },
     "metadata": {},
     "output_type": "display_data"
    },
    {
     "data": {
      "image/png": "[encoded data removed]",
      "text/plain": [
       "<matplotlib.figure.Figure at 0x1067080b8>"
      ]
     },
     "metadata": {},
     "output_type": "display_data"
    }
   ],
   "source": [
    "for i in range(3):\n",
    "    states, rewards = run_sim_episode(point_sim, random_policy)\n",
    "    plot_state_history(states)"
   ]
  },
  {
   "cell_type": "code",
   "execution_count": 12,
   "metadata": {},
   "outputs": [
    {
     "data": {
      "image/png": "[encoded data removed]",
      "text/plain": [
       "<matplotlib.figure.Figure at 0x105805c18>"
      ]
     },
     "metadata": {},
     "output_type": "display_data"
    }
   ],
   "source": [
    "# Let's try the \"go up\" policy:\n",
    "states, rewards = run_sim_episode(point_sim, go_up_policy)\n",
    "plot_state_history(states)"
   ]
  },
  {
   "cell_type": "code",
   "execution_count": 13,
   "metadata": {},
   "outputs": [
    {
     "data": {
      "text/plain": [
       "[{'dx': 0.015056255720826472, 'dy': -0.33637290123401054},\n",
       " {'dx': 0.015056255720826472, 'dy': -0.4363729012340105},\n",
       " {'dx': 0.015056255720826472, 'dy': -0.5363729012340105},\n",
       " {'dx': 0.015056255720826472, 'dy': -0.6363729012340106},\n",
       " {'dx': 0.015056255720826472, 'dy': -0.7363729012340107},\n",
       " {'dx': 0.015056255720826472, 'dy': -0.8363729012340108},\n",
       " {'dx': 0.015056255720826472, 'dy': -0.9363729012340108},\n",
       " {'dx': 0.015056255720826472, 'dy': -1.036372901234011},\n",
       " {'dx': 0.015056255720826472, 'dy': -1.1363729012340111},\n",
       " {'dx': 0.015056255720826472, 'dy': -1.2363729012340112},\n",
       " {'dx': 0.015056255720826472, 'dy': -1.3363729012340113},\n",
       " {'dx': 0.015056255720826472, 'dy': -1.4363729012340114},\n",
       " {'dx': 0.015056255720826472, 'dy': -1.5363729012340115},\n",
       " {'dx': 0.015056255720826472, 'dy': -1.6363729012340116},\n",
       " {'dx': 0.015056255720826472, 'dy': -1.7363729012340117},\n",
       " {'dx': 0.015056255720826472, 'dy': -1.8363729012340118},\n",
       " {'dx': 0.015056255720826472, 'dy': -1.9363729012340118},\n",
       " {'dx': 0.015056255720826472, 'dy': -2.036372901234012},\n",
       " {'dx': 0.015056255720826472, 'dy': -2.136372901234012},\n",
       " {'dx': 0.015056255720826472, 'dy': -2.236372901234012},\n",
       " {'dx': 0.015056255720826472, 'dy': -2.336372901234012}]"
      ]
     },
     "execution_count": 13,
     "metadata": {},
     "output_type": "execute_result"
    }
   ],
   "source": [
    "states"
   ]
  },
  {
   "cell_type": "code",
   "execution_count": 14,
   "metadata": {},
   "outputs": [
    {
     "data": {
      "text/plain": [
       "[-2.9984574433722537,\n",
       " -2.9990321912357922,\n",
       " -2.999336200237982,\n",
       " -2.99951642277878,\n",
       " -2.9996320272183787,\n",
       " -2.9997106053461056,\n",
       " -2.9997664430804662,\n",
       " -2.999807542792902,\n",
       " -2.999838671556695,\n",
       " -2.9998628132871454,\n",
       " -2.999881913413226,\n",
       " -2.999897284350882,\n",
       " -2.999909837563374,\n",
       " -2.999920222087157,\n",
       " -2.9999289102626294,\n",
       " -2.9999362524777275,\n",
       " -2.999942513096191,\n",
       " -2.9999478946149107,\n",
       " -2.9999525542607266,\n",
       " 0]"
      ]
     },
     "execution_count": 14,
     "metadata": {},
     "output_type": "execute_result"
    }
   ],
   "source": [
    "rewards"
   ]
  },
  {
   "cell_type": "code",
   "execution_count": 15,
   "metadata": {},
   "outputs": [],
   "source": [
    "def near_optimal(state):\n",
    "    dx, dy = state['dx'], state['dy']\n",
    "    return {'direction_radians': math.atan2(dy, dx) % (2 * math.pi)}"
   ]
  },
  {
   "cell_type": "code",
   "execution_count": 16,
   "metadata": {},
   "outputs": [
    {
     "name": "stdout",
     "output_type": "stream",
     "text": [
      "Initial distance: 0.760. Took 7 steps.\n"
     ]
    },
    {
     "data": {
      "image/png": "[encoded data removed]",
      "text/plain": [
       "<matplotlib.figure.Figure at 0x10716a208>"
      ]
     },
     "metadata": {},
     "output_type": "display_data"
    }
   ],
   "source": [
    "states, rewards = run_sim_episode(point_sim, near_optimal)\n",
    "plot_state_history(states)"
   ]
  },
  {
   "cell_type": "code",
   "execution_count": 17,
   "metadata": {},
   "outputs": [
    {
     "data": {
      "text/plain": [
       "[{'dx': -0.7555455823504151, 'dy': -0.08222599653272078},\n",
       " {'dx': -0.6561325712857254, 'dy': -0.07140688237989484},\n",
       " {'dx': -0.5567195602210357, 'dy': -0.060587768227068906},\n",
       " {'dx': -0.45730654915634605, 'dy': -0.04976865407424297},\n",
       " {'dx': -0.35789353809165636, 'dy': -0.03894953992141703},\n",
       " {'dx': -0.25848052702696667, 'dy': -0.02813042576859104},\n",
       " {'dx': -0.15906751596227697, 'dy': -0.017311311615765046},\n",
       " {'dx': -0.059654504897587224, 'dy': -0.006492197462939109}]"
      ]
     },
     "execution_count": 17,
     "metadata": {},
     "output_type": "execute_result"
    }
   ],
   "source": [
    "states"
   ]
  },
  {
   "cell_type": "code",
   "execution_count": 18,
   "metadata": {},
   "outputs": [
    {
     "data": {
      "text/plain": [
       "[0.9999999999999996,\n",
       " 0.9999999999999996,\n",
       " 0.9999999999999984,\n",
       " 0.9999999999999996,\n",
       " 0.9999999999999996,\n",
       " 0.9999999999999989,\n",
       " 13]"
      ]
     },
     "execution_count": 18,
     "metadata": {},
     "output_type": "execute_result"
    }
   ],
   "source": [
    "rewards"
   ]
  },
  {
   "cell_type": "markdown",
   "metadata": {},
   "source": [
    "# Next step: RL!\n",
    "\n",
    "Now it's time to go write some inkling code to connect the simulator to a BRAIN. Then we'll train it."
   ]
  }
 ],
 "metadata": {
  "anaconda-cloud": {},
  "kernelspec": {
   "display_name": "Python 3",
   "language": "python",
   "name": "python3"
  },
  "language_info": {
   "codemirror_mode": {
    "name": "ipython",
    "version": 3
   },
   "file_extension": ".py",
   "mimetype": "text/x-python",
   "name": "python",
   "nbconvert_exporter": "python",
   "pygments_lexer": "ipython3",
   "version": "3.6.4"
  }
 },
 "nbformat": 4,
 "nbformat_minor": 2
}
