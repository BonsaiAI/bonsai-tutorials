{
 "cells": [
  {
   "cell_type": "markdown",
   "metadata": {},
   "source": [
    "# Testing the Move-to-Point Simulation\n",
    "\n",
    "We'll make a basic simulator control loop (what the BRAIN trainer will do), and plot the output. Then we'll be able to use the same tools to visualize the learned policies."
   ]
  },
  {
   "cell_type": "code",
   "execution_count": 1,
   "metadata": {},
   "outputs": [],
   "source": [
    "%matplotlib inline"
   ]
  },
  {
   "cell_type": "code",
   "execution_count": 2,
   "metadata": {},
   "outputs": [],
   "source": [
    "%load_ext autoreload\n",
    "%autoreload 2"
   ]
  },
  {
   "cell_type": "code",
   "execution_count": 3,
   "metadata": {},
   "outputs": [],
   "source": [
    "import math\n",
    "import random\n",
    "\n",
    "import matplotlib as mpl\n",
    "import matplotlib.pyplot as plt\n",
    "import numpy as np"
   ]
  },
  {
   "cell_type": "code",
   "execution_count": 4,
   "metadata": {},
   "outputs": [],
   "source": [
    "from bonsai_ai import Simulator, Config, Brain"
   ]
  },
  {
   "cell_type": "code",
   "execution_count": 5,
   "metadata": {},
   "outputs": [],
   "source": [
    "import move_a_point_sim as sim"
   ]
  },
  {
   "cell_type": "code",
   "execution_count": 6,
   "metadata": {},
   "outputs": [],
   "source": [
    "def run_sim_episode(sim, policy):\n",
    "    \"\"\"\n",
    "    Given a sim and a policy, step through some iterations \n",
    "    of the simulator, returning the history of states.\n",
    "    \n",
    "    Args:\n",
    "        sim: a PointSimulator\n",
    "        policy: a function (SimState -> action dictionary)\n",
    "    \"\"\"\n",
    "    k = 0 # Count steps, break out of infinite loops\n",
    "    state_history = []\n",
    "    reward_history = []\n",
    "    state = sim.episode_start()\n",
    "    state_history.append(state)\n",
    "\n",
    "    is_terminal = False\n",
    "    \n",
    "    while not is_terminal:\n",
    "        action = policy(state)\n",
    "        # convert to a [-1,1] action\n",
    "        #action['direction_radians'] = action['direction_radians'] / math.pi - 1.0\n",
    "        (state, reward, is_terminal) = sim.simulate(action)\n",
    "        state_history.append(state)\n",
    "        reward_history.append(reward)\n",
    "        k += 1\n",
    "        if k > 1000:\n",
    "            raise Exception(\"Simulation ran longer than 1000 steps. Stopping.\")\n",
    "\n",
    "    return state_history, reward_history"
   ]
  },
  {
   "cell_type": "code",
   "execution_count": 7,
   "metadata": {},
   "outputs": [],
   "source": [
    "# Some silly policies\n",
    "def random_policy(state):\n",
    "    \"\"\"\n",
    "    Ignore the state, move randomly.\n",
    "    \"\"\"\n",
    "    return {'direction_radians': random.random() * 2 * math.pi}\n",
    "\n",
    "def go_up_policy(state):\n",
    "    return {'direction_radians': math.pi / 2.0}"
   ]
  },
  {
   "cell_type": "code",
   "execution_count": 8,
   "metadata": {},
   "outputs": [],
   "source": [
    "config = Config()\n",
    "brain = Brain(config, \"move-a-point\")\n",
    "point_sim = sim.PointBonsaiBridge(brain, \"move_a_point_sim\")\n",
    "\n",
    "states, rewards = run_sim_episode(point_sim, random_policy)"
   ]
  },
  {
   "cell_type": "code",
   "execution_count": 9,
   "metadata": {},
   "outputs": [
    {
     "data": {
      "text/plain": [
       "{'dx': 0.26103925029128017, 'dy': 0.36727222196687237}"
      ]
     },
     "execution_count": 9,
     "metadata": {},
     "output_type": "execute_result"
    }
   ],
   "source": [
    "states[0]"
   ]
  },
  {
   "cell_type": "code",
   "execution_count": 10,
   "metadata": {},
   "outputs": [],
   "source": [
    "def plot_state_history(states):\n",
    "    target = states[0]['dx'], states[0]['dy']\n",
    "    \n",
    "    xs = [target[0] - s['dx'] for s in states]\n",
    "    ys = [target[1] - s['dy'] for s in states]\n",
    "\n",
    "    fig, axes = plt.subplots(1,1)\n",
    "    #data = np.random.random([10, 2]) \n",
    "    \n",
    "    # Pull out colors\n",
    "    colors = np.linspace(0.1, 1, len(states))\n",
    "    mymap = plt.get_cmap(\"Blues\")\n",
    "    # get the colors from the color map\n",
    "    my_colors = mymap(colors)\n",
    "    axes.scatter(xs, ys, s=40,\n",
    "                     c=colors, edgecolors='None',\n",
    "                     cmap=mymap)\n",
    "    \n",
    "    # Plot the target point in orange\n",
    "    axes.scatter(target[0], target[1], s=40, c='orange', edgecolors='None')\n",
    "    \n",
    "    def bounds(lst):\n",
    "        eps = 0.05\n",
    "        return min(lst+[0])-eps, max(lst+[1])+eps\n",
    "        \n",
    "    axes.set_xlim(bounds(xs + [target[0]]))\n",
    "    axes.set_ylim(bounds(ys + [target[1]]))\n",
    "    "
   ]
  },
  {
   "cell_type": "code",
   "execution_count": 11,
   "metadata": {},
   "outputs": [
    {
     "name": "stdout",
     "output_type": "stream",
     "text": [
      "Initial distance: 0.179. Took 11 steps.\n",
      "Initial distance: 0.165. Took 1 steps.\n"
     ]
    },
    {
     "data": {
      "image/png": "[encoded data removed]",
      "text/plain": [
       "<matplotlib.figure.Figure at 0x11392a438>"
      ]
     },
     "metadata": {},
     "output_type": "display_data"
    },
    {
     "data": {
      "image/png": "[encoded data removed]",
      "text/plain": [
       "<matplotlib.figure.Figure at 0x114a12e48>"
      ]
     },
     "metadata": {},
     "output_type": "display_data"
    },
    {
     "data": {
      "image/png": "[encoded data removed]",
      "text/plain": [
       "<matplotlib.figure.Figure at 0x114a6b080>"
      ]
     },
     "metadata": {},
     "output_type": "display_data"
    }
   ],
   "source": [
    "for i in range(3):\n",
    "    states, rewards = run_sim_episode(point_sim, random_policy)\n",
    "    plot_state_history(states)"
   ]
  },
  {
   "cell_type": "code",
   "execution_count": 12,
   "metadata": {},
   "outputs": [
    {
     "data": {
      "image/png": "[encoded data removed]",
      "text/plain": [
       "<matplotlib.figure.Figure at 0x114b09e48>"
      ]
     },
     "metadata": {},
     "output_type": "display_data"
    }
   ],
   "source": [
    "# Let's try the \"go up\" policy:\n",
    "states, rewards = run_sim_episode(point_sim, go_up_policy)\n",
    "plot_state_history(states)"
   ]
  },
  {
   "cell_type": "code",
   "execution_count": 13,
   "metadata": {},
   "outputs": [
    {
     "data": {
      "text/plain": [
       "[{'dx': -0.9384027684782403, 'dy': -0.31486318932123103},\n",
       " {'dx': -0.9384027684782403, 'dy': -0.414863189321231},\n",
       " {'dx': -0.9384027684782403, 'dy': -0.5148631893212311},\n",
       " {'dx': -0.9384027684782403, 'dy': -0.6148631893212312},\n",
       " {'dx': -0.9384027684782403, 'dy': -0.7148631893212313},\n",
       " {'dx': -0.9384027684782403, 'dy': -0.8148631893212314},\n",
       " {'dx': -0.9384027684782403, 'dy': -0.9148631893212315},\n",
       " {'dx': -0.9384027684782403, 'dy': -1.0148631893212317},\n",
       " {'dx': -0.9384027684782403, 'dy': -1.1148631893212317},\n",
       " {'dx': -0.9384027684782403, 'dy': -1.2148631893212318},\n",
       " {'dx': -0.9384027684782403, 'dy': -1.314863189321232},\n",
       " {'dx': -0.9384027684782403, 'dy': -1.414863189321232},\n",
       " {'dx': -0.9384027684782403, 'dy': -1.5148631893212317},\n",
       " {'dx': -0.9384027684782403, 'dy': -1.6148631893212317},\n",
       " {'dx': -0.9384027684782403, 'dy': -1.7148631893212318},\n",
       " {'dx': -0.9384027684782403, 'dy': -1.814863189321232},\n",
       " {'dx': -0.9384027684782403, 'dy': -1.914863189321232},\n",
       " {'dx': -0.9384027684782403, 'dy': -2.014863189321232},\n",
       " {'dx': -0.9384027684782403, 'dy': -2.114863189321232},\n",
       " {'dx': -0.9384027684782403, 'dy': -2.2148631893212323},\n",
       " {'dx': -0.9384027684782403, 'dy': -2.3148631893212324}]"
      ]
     },
     "execution_count": 13,
     "metadata": {},
     "output_type": "execute_result"
    }
   ],
   "source": [
    "states"
   ]
  },
  {
   "cell_type": "code",
   "execution_count": 14,
   "metadata": {},
   "outputs": [
    {
     "data": {
      "text/plain": [
       "[-1.7239942934744925,\n",
       " -1.8869812482742834,\n",
       " -2.0306477193708474,\n",
       " -2.1554940875735387,\n",
       " -2.2629354324180886,\n",
       " -2.354850853243623,\n",
       " -2.433255316061408,\n",
       " -2.500094894362487,\n",
       " -2.557138639046869,\n",
       " -2.605935394895841,\n",
       " -2.6478092827291846,\n",
       " -2.6838754436817416,\n",
       " -2.715064515243032,\n",
       " -2.742149253230272,\n",
       " -2.7657698981195935,\n",
       " -2.7864567778931306,\n",
       " -2.804649688458646,\n",
       " -2.820714127897256,\n",
       " -2.8349547012735012,\n",
       " 0]"
      ]
     },
     "execution_count": 14,
     "metadata": {},
     "output_type": "execute_result"
    }
   ],
   "source": [
    "rewards"
   ]
  },
  {
   "cell_type": "code",
   "execution_count": 15,
   "metadata": {},
   "outputs": [],
   "source": [
    "def near_optimal(state):\n",
    "    dx, dy = state['dx'], state['dy']\n",
    "    return {'direction_radians': math.atan2(dy, dx) % (2 * math.pi)}"
   ]
  },
  {
   "cell_type": "code",
   "execution_count": 16,
   "metadata": {},
   "outputs": [
    {
     "name": "stdout",
     "output_type": "stream",
     "text": [
      "Initial distance: 0.691. Took 6 steps.\n"
     ]
    },
    {
     "data": {
      "image/png": "[encoded data removed]",
      "text/plain": [
       "<matplotlib.figure.Figure at 0x114b66780>"
      ]
     },
     "metadata": {},
     "output_type": "display_data"
    }
   ],
   "source": [
    "states, rewards = run_sim_episode(point_sim, near_optimal)\n",
    "plot_state_history(states)"
   ]
  },
  {
   "cell_type": "code",
   "execution_count": 17,
   "metadata": {},
   "outputs": [
    {
     "data": {
      "text/plain": [
       "[{'dx': 0.21932069223985284, 'dy': -0.6555368451758861},\n",
       " {'dx': 0.18759268132096185, 'dy': -0.5607036583522285},\n",
       " {'dx': 0.15586467040207086, 'dy': -0.46587047152857086},\n",
       " {'dx': 0.12413665948317987, 'dy': -0.37103728470491326},\n",
       " {'dx': 0.09240864856428888, 'dy': -0.2762040978812557},\n",
       " {'dx': 0.060680637645397884, 'dy': -0.18137091105759817},\n",
       " {'dx': 0.02895262672650689, 'dy': -0.08653772423394063}]"
      ]
     },
     "execution_count": 17,
     "metadata": {},
     "output_type": "execute_result"
    }
   ],
   "source": [
    "states"
   ]
  },
  {
   "cell_type": "code",
   "execution_count": 18,
   "metadata": {},
   "outputs": [
    {
     "data": {
      "text/plain": [
       "[1.0000000000000018,\n",
       " 1.0000000000000018,\n",
       " 1.0000000000000004,\n",
       " 1.0000000000000004,\n",
       " 0.9999999999999996,\n",
       " 14]"
      ]
     },
     "execution_count": 18,
     "metadata": {},
     "output_type": "execute_result"
    }
   ],
   "source": [
    "rewards"
   ]
  },
  {
   "cell_type": "markdown",
   "metadata": {},
   "source": [
    "# Next step: RL!\n",
    "\n",
    "Now it's time to go write some Inkling code to connect the simulator to a BRAIN. Then we'll train it."
   ]
  },
  {
   "cell_type": "code",
   "execution_count": null,
   "metadata": {},
   "outputs": [],
   "source": []
  }
 ],
 "metadata": {
  "anaconda-cloud": {},
  "kernelspec": {
   "display_name": "Python 3",
   "language": "python",
   "name": "python3"
  },
  "language_info": {
   "codemirror_mode": {
    "name": "ipython",
    "version": 3
   },
   "file_extension": ".py",
   "mimetype": "text/x-python",
   "name": "python",
   "nbconvert_exporter": "python",
   "pygments_lexer": "ipython3",
   "version": "3.6.0"
  }
 },
 "nbformat": 4,
 "nbformat_minor": 2
}
